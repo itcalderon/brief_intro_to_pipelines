{
 "cells": [
  {
   "cell_type": "markdown",
   "metadata": {},
   "source": [
    "# Pipelines #"
   ]
  },
  {
   "cell_type": "code",
   "execution_count": 14,
   "metadata": {},
   "outputs": [],
   "source": [
    "from sklearn.model_selection import train_test_split\n",
    "from sklearn. preprocessing import StandardScaler, MinMaxScaler\n",
    "from sklearn.decomposition import PCA\n",
    "from sklearn.pipeline import Pipeline\n",
    "from sklearn.linear_model import LogisticRegression\n",
    "from sklearn.neighbors import KNeighborsClassifier\n",
    "from sklearn.tree import DecisionTreeClassifier\n",
    "from sklearn import metrics"
   ]
  },
  {
   "cell_type": "code",
   "execution_count": 5,
   "metadata": {},
   "outputs": [],
   "source": [
    "import pandas as pd\n",
    "import seaborn as sns"
   ]
  },
  {
   "cell_type": "code",
   "execution_count": 11,
   "metadata": {},
   "outputs": [
    {
     "name": "stdout",
     "output_type": "stream",
     "text": [
      "(150, 5)\n"
     ]
    },
    {
     "data": {
      "text/html": [
       "<div>\n",
       "<style scoped>\n",
       "    .dataframe tbody tr th:only-of-type {\n",
       "        vertical-align: middle;\n",
       "    }\n",
       "\n",
       "    .dataframe tbody tr th {\n",
       "        vertical-align: top;\n",
       "    }\n",
       "\n",
       "    .dataframe thead th {\n",
       "        text-align: right;\n",
       "    }\n",
       "</style>\n",
       "<table border=\"1\" class=\"dataframe\">\n",
       "  <thead>\n",
       "    <tr style=\"text-align: right;\">\n",
       "      <th></th>\n",
       "      <th>sepal_length</th>\n",
       "      <th>sepal_width</th>\n",
       "      <th>petal_length</th>\n",
       "      <th>petal_width</th>\n",
       "      <th>species</th>\n",
       "    </tr>\n",
       "  </thead>\n",
       "  <tbody>\n",
       "    <tr>\n",
       "      <th>0</th>\n",
       "      <td>5.1</td>\n",
       "      <td>3.5</td>\n",
       "      <td>1.4</td>\n",
       "      <td>0.2</td>\n",
       "      <td>setosa</td>\n",
       "    </tr>\n",
       "    <tr>\n",
       "      <th>1</th>\n",
       "      <td>4.9</td>\n",
       "      <td>3.0</td>\n",
       "      <td>1.4</td>\n",
       "      <td>0.2</td>\n",
       "      <td>setosa</td>\n",
       "    </tr>\n",
       "    <tr>\n",
       "      <th>2</th>\n",
       "      <td>4.7</td>\n",
       "      <td>3.2</td>\n",
       "      <td>1.3</td>\n",
       "      <td>0.2</td>\n",
       "      <td>setosa</td>\n",
       "    </tr>\n",
       "    <tr>\n",
       "      <th>3</th>\n",
       "      <td>4.6</td>\n",
       "      <td>3.1</td>\n",
       "      <td>1.5</td>\n",
       "      <td>0.2</td>\n",
       "      <td>setosa</td>\n",
       "    </tr>\n",
       "    <tr>\n",
       "      <th>4</th>\n",
       "      <td>5.0</td>\n",
       "      <td>3.6</td>\n",
       "      <td>1.4</td>\n",
       "      <td>0.2</td>\n",
       "      <td>setosa</td>\n",
       "    </tr>\n",
       "  </tbody>\n",
       "</table>\n",
       "</div>"
      ],
      "text/plain": [
       "   sepal_length  sepal_width  petal_length  petal_width species\n",
       "0           5.1          3.5           1.4          0.2  setosa\n",
       "1           4.9          3.0           1.4          0.2  setosa\n",
       "2           4.7          3.2           1.3          0.2  setosa\n",
       "3           4.6          3.1           1.5          0.2  setosa\n",
       "4           5.0          3.6           1.4          0.2  setosa"
      ]
     },
     "execution_count": 11,
     "metadata": {},
     "output_type": "execute_result"
    }
   ],
   "source": [
    "iris = sns.load_dataset('iris')\n",
    "print(iris.shape)\n",
    "iris.head()"
   ]
  },
  {
   "cell_type": "markdown",
   "metadata": {},
   "source": [
    "## Modeling without Pipelines ##"
   ]
  },
  {
   "cell_type": "code",
   "execution_count": 8,
   "metadata": {},
   "outputs": [],
   "source": [
    "# features\n",
    "X = iris.drop('species', axis=1)\n",
    "\n",
    "# target\n",
    "y = iris['species']"
   ]
  },
  {
   "cell_type": "code",
   "execution_count": 12,
   "metadata": {},
   "outputs": [],
   "source": [
    "# Train test split\n",
    "X_train, X_test, y_train, y_test = train_test_split(X, y, random_state=99)"
   ]
  },
  {
   "cell_type": "markdown",
   "metadata": {},
   "source": [
    "### Logistic Regression ###"
   ]
  },
  {
   "cell_type": "code",
   "execution_count": 61,
   "metadata": {},
   "outputs": [
    {
     "name": "stdout",
     "output_type": "stream",
     "text": [
      "Training Accuracy 0.9732142857142857\n",
      "Test Accuracy: 0.9736842105263158\n"
     ]
    }
   ],
   "source": [
    "# instantiate StandardScaler\n",
    "scaler = StandardScaler()\n",
    "\n",
    "# fit and transform data\n",
    "X_train_scaled = scaler.fit_transform(X_train)\n",
    "X_test_scaled =  scaler.transform(X_test)\n",
    "\n",
    "# instantiate LogisticRegression\n",
    "logreg = LogisticRegression()\n",
    "\n",
    "# fit model\n",
    "logreg.fit(X_train_scaled, y_train)\n",
    "\n",
    "# predict on train and test set\n",
    "y_train_logpred = logreg.predict(X_train_scaled)\n",
    "y_test_logpred = logreg.predict(X_test_scaled)\n",
    "\n",
    "# calculate score on test\n",
    "print('Training Accuracy', metrics.accuracy_score(y_train, y_train_logpred))\n",
    "print('Test Accuracy:', metrics.accuracy_score(y_test, y_test_logpred))"
   ]
  },
  {
   "cell_type": "markdown",
   "metadata": {},
   "source": [
    "### KNN ###"
   ]
  },
  {
   "cell_type": "code",
   "execution_count": 62,
   "metadata": {},
   "outputs": [
    {
     "name": "stdout",
     "output_type": "stream",
     "text": [
      "Training Accuracy 0.9732142857142857\n",
      "Test Accuracy: 0.9473684210526315\n"
     ]
    }
   ],
   "source": [
    "# instantiate MinMaxScaler\n",
    "minmax = MinMaxScaler()\n",
    "\n",
    "# fit and transform data\n",
    "X_train_minmax = minmax.fit_transform(X_train)\n",
    "X_test_minmax = minmax.transform(X_test)\n",
    "\n",
    "# instantiate KNeighborsClassifier\n",
    "knn = KNeighborsClassifier()\n",
    "\n",
    "# fit model\n",
    "knn.fit(X_train_minmax, y_train)\n",
    "\n",
    "# predict on train and test set\n",
    "y_train_knnpred = knn.predict(X_train_minmax)\n",
    "y_test_knnpred = knn.predict(X_test_minmax)\n",
    "\n",
    "# calculate accuracy score on test\n",
    "print('Training Accuracy', metrics.accuracy_score(y_train, y_train_knnpred))\n",
    "print('Test Accuracy:', metrics.accuracy_score(y_test, y_test_knnpred))"
   ]
  },
  {
   "cell_type": "markdown",
   "metadata": {},
   "source": [
    "### Decision Tree ###"
   ]
  },
  {
   "cell_type": "code",
   "execution_count": 64,
   "metadata": {},
   "outputs": [
    {
     "name": "stdout",
     "output_type": "stream",
     "text": [
      "Training Accuracy 1.0\n",
      "Test Accuracy: 0.9210526315789473\n"
     ]
    }
   ],
   "source": [
    "# instantiate StandardScaler\n",
    "scaler2 = StandardScaler()\n",
    "\n",
    "# fit and transform data\n",
    "X_train_scaled2 = scaler2.fit_transform(X_train)\n",
    "X_test_scaled2 =  scaler2.transform(X_test)\n",
    "\n",
    "# instantiate PCA that accounts for 95% of variance\n",
    "pca = PCA(.95)\n",
    "\n",
    "# fit and transform data\n",
    "X_train_pca = pca.fit_transform(X_train_scaled2)\n",
    "X_test_pca =  pca.transform(X_test_scaled2)\n",
    "\n",
    "# instantiate DecisionTreeClassifier\n",
    "dtc = DecisionTreeClassifier()\n",
    "\n",
    "# fit model\n",
    "dtc.fit(X_train_pca, y_train)\n",
    "\n",
    "# predict on train and test set\n",
    "y_train_pcatree = dtc.predict(X_train_pca)\n",
    "y_test_pcatree = dtc.predict(X_test_pca)\n",
    "\n",
    "# calculate score on test\n",
    "print('Training Accuracy', metrics.accuracy_score(y_train, y_train_pcatree))\n",
    "print('Test Accuracy:', metrics.accuracy_score(y_test, y_test_pcatree))"
   ]
  },
  {
   "cell_type": "markdown",
   "metadata": {},
   "source": [
    "## Modeling with Pipelines ##"
   ]
  },
  {
   "cell_type": "markdown",
   "metadata": {},
   "source": [
    "### Logistic Regression ###"
   ]
  },
  {
   "cell_type": "code",
   "execution_count": 52,
   "metadata": {},
   "outputs": [],
   "source": [
    "# Define pipeline for LogisticRegression\n",
    "logreg_pipe = Pipeline([('ss', StandardScaler()),\n",
    "                        ('logreg', LogisticRegression())])"
   ]
  },
  {
   "cell_type": "code",
   "execution_count": 53,
   "metadata": {
    "scrolled": true
   },
   "outputs": [
    {
     "name": "stdout",
     "output_type": "stream",
     "text": [
      "Train Accuracy: 0.9732142857142857\n",
      "Test Accuracy: 0.9736842105263158\n"
     ]
    }
   ],
   "source": [
    "# fit pipeline on the training data\n",
    "logreg_pipe.fit(X_train, y_train)\n",
    "\n",
    "# calculate score on test\n",
    "print('Train Accuracy:', metrics.accuracy_score(y_train, logreg_pipe.predict(X_train)))\n",
    "print('Test Accuracy:', metrics.accuracy_score(y_test, logreg_pipe.predict(X_test)))"
   ]
  },
  {
   "cell_type": "markdown",
   "metadata": {},
   "source": [
    "### KNN ###"
   ]
  },
  {
   "cell_type": "code",
   "execution_count": 54,
   "metadata": {},
   "outputs": [],
   "source": [
    "# Define pipeline for KNeighborsClassifier\n",
    "knn_pipe = Pipeline([('minmax', MinMaxScaler()),\n",
    "                     ('knn', KNeighborsClassifier())])"
   ]
  },
  {
   "cell_type": "code",
   "execution_count": 55,
   "metadata": {
    "scrolled": true
   },
   "outputs": [
    {
     "name": "stdout",
     "output_type": "stream",
     "text": [
      "Train Accuracy: 0.9732142857142857\n",
      "Test Accuracy: 0.9473684210526315\n"
     ]
    }
   ],
   "source": [
    "# fit pipeline on the training data\n",
    "knn_pipe.fit(X_train, y_train)\n",
    "\n",
    "# calculate score on test\n",
    "print('Train Accuracy:', metrics.accuracy_score(y_train, knn_pipe.predict(X_train)))\n",
    "print('Test Accuracy:', metrics.accuracy_score(y_test, knn_pipe.predict(X_test)))"
   ]
  },
  {
   "cell_type": "markdown",
   "metadata": {},
   "source": [
    "### Decision Tree Classifier ###"
   ]
  },
  {
   "cell_type": "code",
   "execution_count": 59,
   "metadata": {},
   "outputs": [],
   "source": [
    "# Define pipeline for DecisionTreeClassifier\n",
    "dtc_pipe = Pipeline([('ss2', StandardScaler()),\n",
    "                     ('pca', PCA(.95)),\n",
    "                     ('dtc', DecisionTreeClassifier())])"
   ]
  },
  {
   "cell_type": "code",
   "execution_count": 60,
   "metadata": {},
   "outputs": [
    {
     "name": "stdout",
     "output_type": "stream",
     "text": [
      "Train Accuracy: 1.0\n",
      "Test Accuracy: 0.9210526315789473\n"
     ]
    }
   ],
   "source": [
    "# fit pipeline to training data\n",
    "dtc_pipe.fit(X_train, y_train)\n",
    "\n",
    "# calculate score on test\n",
    "print('Train Accuracy:', metrics.accuracy_score(y_train, dtc_pipe.predict(X_train)))\n",
    "print('Test Accuracy:', metrics.accuracy_score(y_test, dtc_pipe.predict(X_test)))"
   ]
  },
  {
   "cell_type": "markdown",
   "metadata": {},
   "source": [
    "### Iterating Through List of Pipelines ###"
   ]
  },
  {
   "cell_type": "code",
   "execution_count": 71,
   "metadata": {},
   "outputs": [
    {
     "name": "stdout",
     "output_type": "stream",
     "text": [
      "LogReg Test Accuracy: 0.9736842105263158\n",
      "KNN Test Accuracy: 0.9473684210526315\n",
      "DTC Test Accuracy: 0.9210526315789473\n"
     ]
    }
   ],
   "source": [
    "# define list of pipelines and names defined above\n",
    "names = ['LogReg', 'KNN', 'DTC']\n",
    "pipelines = [logreg_pipe, knn_pipe, dtc_pipe]\n",
    "\n",
    "# iterate through list to fit models and get scores on test set\n",
    "for name, pipeline in zip(names, pipelines):\n",
    "    pipeline.fit(X_train, y_train)\n",
    "    print(name+' Test Accuracy:', metrics.accuracy_score(y_test, pipeline.predict(X_test)))"
   ]
  },
  {
   "cell_type": "markdown",
   "metadata": {},
   "source": [
    "## Pipelines and GridSearchCV"
   ]
  },
  {
   "cell_type": "code",
   "execution_count": 73,
   "metadata": {},
   "outputs": [
    {
     "name": "stdout",
     "output_type": "stream",
     "text": [
      "Fitting 3 folds for each of 27 candidates, totalling 81 fits\n"
     ]
    },
    {
     "name": "stderr",
     "output_type": "stream",
     "text": [
      "[Parallel(n_jobs=-1)]: Using backend LokyBackend with 4 concurrent workers.\n",
      "[Parallel(n_jobs=-1)]: Done  68 tasks      | elapsed:    2.3s\n",
      "[Parallel(n_jobs=-1)]: Done  81 out of  81 | elapsed:    2.3s finished\n"
     ]
    },
    {
     "data": {
      "text/plain": [
       "GridSearchCV(cv=3,\n",
       "             estimator=Pipeline(steps=[('ss2', StandardScaler()),\n",
       "                                       ('pca', PCA(n_components=0.95)),\n",
       "                                       ('dtc', DecisionTreeClassifier())]),\n",
       "             n_jobs=-1,\n",
       "             param_grid=[{'dtc__max_depth': [4, 5, 6],\n",
       "                          'dtc__min_samples_leaf': [1, 3, 5],\n",
       "                          'dtc__min_samples_split': [2, 5, 10]}],\n",
       "             scoring='accuracy', verbose=1)"
      ]
     },
     "execution_count": 73,
     "metadata": {},
     "output_type": "execute_result"
    }
   ],
   "source": [
    "from sklearn.model_selection import GridSearchCV\n",
    "\n",
    "# use grid search with the dtc_pipe\n",
    "# make sure you put the name of the model used in the pipeline followed by a dunderscore and the param you want to change\n",
    "params = [{'dtc__max_depth': [4, 5, 6], \n",
    "           'dtc__min_samples_split': [2, 5, 10], \n",
    "           'dtc__min_samples_leaf': [1, 3, 5]}]\n",
    "\n",
    "gridsearch = GridSearchCV(dtc_pipe, params, scoring='accuracy', cv=3, verbose=1, n_jobs=-1)\n",
    "\n",
    "gridsearch.fit(X_train, y_train)"
   ]
  },
  {
   "cell_type": "code",
   "execution_count": 75,
   "metadata": {},
   "outputs": [
    {
     "name": "stdout",
     "output_type": "stream",
     "text": [
      "Test Accuracy: 0.9210526315789473\n"
     ]
    }
   ],
   "source": [
    "print('Test Accuracy:', \n",
    "      metrics.accuracy_score(y_test, gridsearch.best_estimator_.predict(X_test)))"
   ]
  },
  {
   "cell_type": "code",
   "execution_count": null,
   "metadata": {},
   "outputs": [],
   "source": []
  }
 ],
 "metadata": {
  "kernelspec": {
   "display_name": "Python 3",
   "language": "python",
   "name": "python3"
  },
  "language_info": {
   "codemirror_mode": {
    "name": "ipython",
    "version": 3
   },
   "file_extension": ".py",
   "mimetype": "text/x-python",
   "name": "python",
   "nbconvert_exporter": "python",
   "pygments_lexer": "ipython3",
   "version": "3.8.3"
  }
 },
 "nbformat": 4,
 "nbformat_minor": 4
}
